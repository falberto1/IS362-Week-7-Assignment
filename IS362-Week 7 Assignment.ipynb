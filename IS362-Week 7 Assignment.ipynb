{
 "cells": [
  {
   "cell_type": "markdown",
   "id": "7104ad21",
   "metadata": {},
   "source": [
    "Scape Web Page\n",
    "Choosing top movies as rated by Metacritic. A while loop is necessary because for this website, getURL returns just the headers with “Error 429 Slow down” the majority times it is queried. A 30-second pause is built in every 500 tries because sometimes pausing for a bit helps."
   ]
  },
  {
   "cell_type": "markdown",
   "id": "78f27eaa",
   "metadata": {},
   "source": [
    "Source: https://www.metacritic.com/browse/movies/score/metascore/year/filtered"
   ]
  },
  {
   "cell_type": "code",
   "execution_count": 1,
   "id": "9bb42673",
   "metadata": {},
   "outputs": [],
   "source": [
    "library(XML)\n",
    "library(RCurl)"
   ]
  },
  {
   "cell_type": "markdown",
   "id": "a5ad5236",
   "metadata": {},
   "source": [
    "#Loading required package: bitops"
   ]
  },
  {
   "cell_type": "code",
   "execution_count": null,
   "id": "94317fcc",
   "metadata": {},
   "outputs": [],
   "source": [
    "library(RMySQL)"
   ]
  },
  {
   "cell_type": "markdown",
   "id": "9891cd41",
   "metadata": {},
   "source": [
    "##Loading required package: DBI"
   ]
  },
  {
   "cell_type": "code",
   "execution_count": null,
   "id": "355dc60a",
   "metadata": {},
   "outputs": [],
   "source": [
    "scrape <- function(url) {\n",
    "  webpage = \"\"; n = 0\n",
    "  options(warn = -1)\n",
    "  while (nchar(webpage)<1000) {\n",
    "    webpage <- getURL(url, isHTTP = T)\n",
    "    n = n + 1\n",
    "    if (n %% 500 == 0) { \n",
    "      Sys.sleep(30)\n",
    "      }\n",
    "  }\n",
    "  options(warn = 0)\n",
    "  return(webpage)\n",
    "}\n",
    "\n",
    "url <- \"http://www.metacritic.com/browse/movies/score/metascore/year/filtered\"\n",
    "raw <- scrape(url); nchar(raw)"
   ]
  },
  {
   "cell_type": "markdown",
   "id": "8d4a80c7",
   "metadata": {},
   "source": [
    "##[1] 189063"
   ]
  },
  {
   "cell_type": "markdown",
   "id": "fc7bb3e3",
   "metadata": {},
   "source": [
    "Clean Data\n",
    "Choosing top six movies to extract from the raw data scraped from Metacritic."
   ]
  },
  {
   "cell_type": "code",
   "execution_count": null,
   "id": "692245f0",
   "metadata": {},
   "outputs": [],
   "source": [
    "clean <- function(raw, m) {\n",
    "    data <- htmlParse(raw)\n",
    "    nodes <- c(\"product_item row_num\", \"product_item product_title\", \n",
    "               \"metascore_w small movie positive\", \"product_item product_date\")\n",
    "    n = length(nodes)\n",
    "    movies <- matrix(NA, nrow=m, ncol=n)\n",
    "    for (i in 1:m) {\n",
    "    for (j in 1:n) {\n",
    "      x <- getNodeSet(data, paste0(\"//div[@class='\", nodes[j], \"']\"))[[i]]\n",
    "      x <- gsub(\"\\\\n|\\\\.|<a.*\\\">|</a>\", \"\", as(x, \"character\"))\n",
    "      loc <- gregexpr(\">.*?</\", x)\n",
    "      a <- loc[[1]][1] + 1\n",
    "      b <- loc[[1]][1] + attr(loc[[1]],\"match.length\") - 3\n",
    "      x <- substr(x, start = a, stop = b) \n",
    "      movies[i,j] <- gsub(\"^\\\\s+|\\\\s+$\", \"\", x)\n",
    "    }\n",
    "  }\n",
    "  popular = data.frame(movies, stringsAsFactors = F)\n",
    "  popular[,1] <- as.integer(popular[,1])\n",
    "  popular[,3] <- as.integer(popular[,3])\n",
    "  month <- substr(movies[,4],0,3)\n",
    "  day <- gsub(\"\\\\s\", \"0\", gsub(\",\", \"\", substr(movies[ ,4], nchar(movies[,4])-7, nchar(movies[,4]) - 5)))\n",
    "  year <- substr(movies[,4], nchar(movies[,4]) - 3, nchar(movies[ ,4]))\n",
    "  popular[,4] <- as.Date(paste0(day,month,year), \"%d%B%Y\")\n",
    "  colnames(popular) <- c(\"Movie_Rank\",\"Movie_Title\",\"MetaScore\",\"Release_Date\")\n",
    "  return(popular)\n",
    "}\n",
    "\n",
    "popular <- clean(raw, 6); popular"
   ]
  },
  {
   "cell_type": "code",
   "execution_count": null,
   "id": "1fcfdaca",
   "metadata": {},
   "outputs": [],
   "source": [
    "#   Movie_Rank                Movie_Title MetaScore Release_Date\n",
    "## 1          1                  Moonlight        94   2016-10-21\n",
    "## 2          2               Toni Erdmann        91   2016-12-25\n",
    "## 3          3 One More Time with Feeling        91   2016-09-08\n",
    "## 4          4                 La La Land        91   2016-12-02\n",
    "## 5          5      Manchester by the Sea        91   2016-11-18\n",
    "## 6          6                   The Fits        90   2016-06-03"
   ]
  },
  {
   "cell_type": "markdown",
   "id": "5d39a9cf",
   "metadata": {},
   "source": [
    "Imaginary Friend’s and their Ratings\n",
    "Makes a list of five friends then produces a list of random ratings from one to six. The number six accounts for instances where movies were not watched by the individual and is therefore replaced with “NA” in the final step of the function."
   ]
  },
  {
   "cell_type": "code",
   "execution_count": null,
   "id": "93423e84",
   "metadata": {},
   "outputs": [],
   "source": [
    "imagine <- function(f) {\n",
    "  friends <- data.frame(cbind(seq(1:5), NA))\n",
    "  friends[ ,2] <- LETTERS[1:f]\n",
    "  colnames(friends) <- c(\"Friend_Rank\", \"Friend_Name\")   \n",
    "  return(friends)\n",
    "}\n",
    "\n",
    "rate <- function(min, max) {\n",
    "  m = length(popular[,1])\n",
    "  f = length(friends[,1])\n",
    "  ratings <- array(NA, dim=c(m,f))\n",
    "  set.seed(11217)\n",
    "  for (i in 1:m){\n",
    "    for (j in 1:f) {\n",
    "      score <- ceiling(runif(1, min - 1, max + 1))\n",
    "      if (score <= max) { ratings[i, j] <- score }\n",
    "    }\n",
    "  }\n",
    "  ratings <- cbind(as.numeric(row(ratings)), as.numeric(col(ratings)),as.numeric(ratings))\n",
    "  ratings <- data.frame(subset(ratings, complete.cases(ratings)))\n",
    "  colnames(ratings) <- c(\"Movie_Rank\", \"Friend_Rank\", \"Rating\")\n",
    "  return(ratings)\n",
    "}\n",
    "\n",
    "friends <- imagine(5); friends"
   ]
  },
  {
   "cell_type": "code",
   "execution_count": null,
   "id": "aac98dfd",
   "metadata": {},
   "outputs": [],
   "source": [
    "##   Friend_Rank Friend_Name\n",
    "## 1           1           A\n",
    "## 2           2           B\n",
    "## 3           3           C\n",
    "## 4           4           D\n",
    "## 5           5           E"
   ]
  },
  {
   "cell_type": "code",
   "execution_count": null,
   "id": "1e064916",
   "metadata": {},
   "outputs": [],
   "source": [
    "ratings <- rate(1, 5); ratings"
   ]
  },
  {
   "cell_type": "code",
   "execution_count": null,
   "id": "63cd6a15",
   "metadata": {},
   "outputs": [],
   "source": [
    "##    Movie_Rank Friend_Rank Rating\n",
    "## 1           1           1      5\n",
    "## 2           2           1      5\n",
    "## 3           3           1      4\n",
    "## 4           4           1      1\n",
    "## 5           6           1      4\n",
    "## 6           1           2      2\n",
    "## 7           2           2      1\n",
    "## 8           3           2      1\n",
    "## 9           4           2      4\n",
    "## 10          5           2      5\n",
    "## 11          6           2      1\n",
    "## 12          2           3      1\n",
    "## 13          4           3      2\n",
    "## 14          5           3      2\n",
    "## 15          6           3      4\n",
    "## 16          1           4      3\n",
    "## 17          3           4      4\n",
    "## 18          4           4      5\n",
    "## 19          6           4      4\n",
    "## 20          1           5      1\n",
    "## 21          2           5      5\n",
    "## 22          3           5      5\n",
    "## 23          4           5      2\n",
    "## 24          5           5      4\n",
    "## 25          6           5      5"
   ]
  },
  {
   "cell_type": "markdown",
   "id": "748ab2a3",
   "metadata": {},
   "source": [
    "Store Results in SQL Database\n",
    "Connect to MySQL. Create “Movies” database. Load movies, friends, and ratings into the database."
   ]
  },
  {
   "cell_type": "code",
   "execution_count": null,
   "id": "b17b5a14",
   "metadata": {},
   "outputs": [],
   "source": [
    "dbSendQuery(connection, \"CREATE USER 'RMySQL' IDENTIFIED BY '123456';\" )"
   ]
  },
  {
   "cell_type": "markdown",
   "id": "beee1802",
   "metadata": {},
   "source": [
    "##<MySQLResult:21441544,0,0>"
   ]
  },
  {
   "cell_type": "code",
   "execution_count": null,
   "id": "d2733eaa",
   "metadata": {},
   "outputs": [],
   "source": [
    "dbSendQuery(connection, \"GRANT ALL ON *.* TO 'RMySQL';\")"
   ]
  },
  {
   "cell_type": "markdown",
   "id": "082c8360",
   "metadata": {},
   "source": [
    "##<MySQLResult:1,0,1>"
   ]
  },
  {
   "cell_type": "code",
   "execution_count": null,
   "id": "40e5834e",
   "metadata": {},
   "outputs": [],
   "source": [
    "connection <- dbConnect(MySQL(), user=\"RMySQL\", password=\"123456\")\n",
    "\n",
    "dbSendQuery(connection, 'CREATE SCHEMA IF NOT EXISTS Movies;')"
   ]
  },
  {
   "cell_type": "markdown",
   "id": "50c136f6",
   "metadata": {},
   "source": [
    "##<MySQLResult:0,1,0>"
   ]
  },
  {
   "cell_type": "code",
   "execution_count": null,
   "id": "f9eabcd7",
   "metadata": {},
   "outputs": [],
   "source": [
    "dbSendQuery(connection, 'USE Movies;')"
   ]
  },
  {
   "cell_type": "markdown",
   "id": "93feb40e",
   "metadata": {},
   "source": [
    "##<MySQLResult:21788696,1,1>"
   ]
  },
  {
   "cell_type": "code",
   "execution_count": null,
   "id": "881fa670",
   "metadata": {},
   "outputs": [],
   "source": [
    "dbSendQuery(connection, 'DROP TABLE IF EXISTS tbl_Movies;')"
   ]
  },
  {
   "cell_type": "markdown",
   "id": "44af5054",
   "metadata": {},
   "source": [
    "##<MySQLResult:21500384,1,2>"
   ]
  },
  {
   "cell_type": "code",
   "execution_count": null,
   "id": "57ab187b",
   "metadata": {},
   "outputs": [],
   "source": [
    "dbSendQuery(connection, 'DROP TABLE IF EXISTS tbl_Friends;')"
   ]
  },
  {
   "cell_type": "markdown",
   "id": "f2bd5c17",
   "metadata": {},
   "source": [
    "##<MySQLResult:21439816,1,3>"
   ]
  },
  {
   "cell_type": "code",
   "execution_count": null,
   "id": "158bbee9",
   "metadata": {},
   "outputs": [],
   "source": [
    "dbSendQuery(connection, 'DROP TABLE IF EXISTS tbl_Ratings;')"
   ]
  },
  {
   "cell_type": "markdown",
   "id": "2ca11327",
   "metadata": {},
   "source": [
    "##<MySQLResult:112225112,1,4>"
   ]
  },
  {
   "cell_type": "code",
   "execution_count": null,
   "id": "b8c7968f",
   "metadata": {},
   "outputs": [],
   "source": [
    "dbWriteTable(connection, \"tbl_Movies\", popular, append = TRUE, row.names = FALSE)"
   ]
  },
  {
   "cell_type": "markdown",
   "id": "17267a49",
   "metadata": {},
   "source": [
    "##[1] TRUE"
   ]
  },
  {
   "cell_type": "code",
   "execution_count": null,
   "id": "7e9a3461",
   "metadata": {},
   "outputs": [],
   "source": [
    "dbSendQuery(connection, \"ALTER TABLE tbl_Movies\n",
    "                         MODIFY COLUMN Movie_Rank INT NOT NULL,\n",
    "                         MODIFY COLUMN Movie_Title VARCHAR(30) NOT NULL,\n",
    "                         MODIFY COLUMN MetaScore INT NOT NULL,\n",
    "                         MODIFY COLUMN Release_Date DATE NOT NULL,\n",
    "                         ADD PRIMARY KEY (Movie_Rank);\")"
   ]
  },
  {
   "cell_type": "markdown",
   "id": "d6f75343",
   "metadata": {},
   "source": [
    "##<MySQLResult:21439648,1,8>"
   ]
  },
  {
   "cell_type": "code",
   "execution_count": null,
   "id": "ce5a14bb",
   "metadata": {},
   "outputs": [],
   "source": [
    "dbWriteTable(connection, \"tbl_Friends\", friends, append = TRUE, row.names = FALSE)"
   ]
  },
  {
   "cell_type": "markdown",
   "id": "67ea1d19",
   "metadata": {},
   "source": [
    "##[1] TRUE"
   ]
  },
  {
   "cell_type": "code",
   "execution_count": null,
   "id": "04e42419",
   "metadata": {},
   "outputs": [],
   "source": [
    "dbSendQuery(connection, \"ALTER TABLE tbl_Friends\n",
    "                         MODIFY COLUMN Friend_Rank INT NOT NULL,\n",
    "                         MODIFY COLUMN Friend_Name VARCHAR(30) NOT NULL,\n",
    "                         ADD PRIMARY KEY (Friend_Rank);\")"
   ]
  },
  {
   "cell_type": "markdown",
   "id": "5d87013a",
   "metadata": {},
   "source": [
    "##<MySQLResult:2,1,12>"
   ]
  },
  {
   "cell_type": "code",
   "execution_count": null,
   "id": "63897ee5",
   "metadata": {},
   "outputs": [],
   "source": [
    "dbWriteTable(connection, \"tbl_Ratings\", ratings, append = TRUE, row.names = FALSE)"
   ]
  },
  {
   "cell_type": "markdown",
   "id": "e20205cb",
   "metadata": {},
   "source": [
    "##[1] TRUE"
   ]
  },
  {
   "cell_type": "code",
   "execution_count": null,
   "id": "c2c2c0c6",
   "metadata": {},
   "outputs": [],
   "source": [
    "dbSendQuery(connection, \"ALTER TABLE tbl_Ratings\n",
    "                         MODIFY COLUMN Rating INT NOT NULL,\n",
    "                         MODIFY COLUMN Movie_Rank INT NOT NULL,\n",
    "                         MODIFY COLUMN Friend_Rank INT NOT NULL,\n",
    "                         ADD FOREIGN KEY (Movie_Rank) REFERENCES tbl_Movies (Movie_Rank),\n",
    "                         ADD FOREIGN KEY (Friend_Rank) REFERENCES tbl_Friends (Friend_Rank),\n",
    "                         ADD PRIMARY KEY (Movie_Rank, Friend_Rank);\")"
   ]
  },
  {
   "cell_type": "markdown",
   "id": "4be848eb",
   "metadata": {},
   "source": [
    "##<MySQLResult:2,1,16>"
   ]
  },
  {
   "cell_type": "markdown",
   "id": "12906973",
   "metadata": {},
   "source": [
    "Run Query from SQL Database\n",
    "Queries of MySQL tables displays data as a dataframe in R."
   ]
  },
  {
   "cell_type": "code",
   "execution_count": null,
   "id": "6646d7d9",
   "metadata": {},
   "outputs": [],
   "source": [
    "dbGetQuery(connection, \"SELECT Movie_Title, Metascore, Release_Date, Friend_Name, Rating\n",
    "                        FROM movies.tbl_Movies AS M\n",
    "                        CROSS JOIN movies.tbl_Friends AS F\n",
    "                        LEFT JOIN movies.tbl_Ratings AS R\n",
    "                        ON R.Movie_Rank = M.Movie_Rank AND F.Friend_Rank = R.Friend_Rank\n",
    "                        ORDER BY M.Movie_Rank, F.Friend_Rank;\")"
   ]
  },
  {
   "cell_type": "code",
   "execution_count": null,
   "id": "3d420cc9",
   "metadata": {},
   "outputs": [],
   "source": [
    "##                   Movie_Title Metascore Release_Date Friend_Name Rating\n",
    "## 1                   Moonlight        94   2016-10-21           A      5\n",
    "## 2                   Moonlight        94   2016-10-21           B      2\n",
    "## 3                   Moonlight        94   2016-10-21           C     NA\n",
    "## 4                   Moonlight        94   2016-10-21           D      3\n",
    "## 5                   Moonlight        94   2016-10-21           E      1\n",
    "## 6                Toni Erdmann        91   2016-12-25           A      5\n",
    "## 7                Toni Erdmann        91   2016-12-25           B      1\n",
    "## 8                Toni Erdmann        91   2016-12-25           C      1\n",
    "## 9                Toni Erdmann        91   2016-12-25           D     NA\n",
    "## 10               Toni Erdmann        91   2016-12-25           E      5\n",
    "## 11 One More Time with Feeling        91   2016-09-08           A      4\n",
    "## 12 One More Time with Feeling        91   2016-09-08           B      1\n",
    "## 13 One More Time with Feeling        91   2016-09-08           C     NA\n",
    "## 14 One More Time with Feeling        91   2016-09-08           D      4\n",
    "## 15 One More Time with Feeling        91   2016-09-08           E      5\n",
    "## 16                 La La Land        91   2016-12-02           A      1\n",
    "## 17                 La La Land        91   2016-12-02           B      4\n",
    "## 18                 La La Land        91   2016-12-02           C      2\n",
    "## 19                 La La Land        91   2016-12-02           D      5\n",
    "## 20                 La La Land        91   2016-12-02           E      2\n",
    "## 21      Manchester by the Sea        91   2016-11-18           A     NA\n",
    "## 22      Manchester by the Sea        91   2016-11-18           B      5\n",
    "## 23      Manchester by the Sea        91   2016-11-18           C      2\n",
    "## 24      Manchester by the Sea        91   2016-11-18           D     NA\n",
    "## 25      Manchester by the Sea        91   2016-11-18           E      4\n",
    "## 26                   The Fits        90   2016-06-03           A      4\n",
    "## 27                   The Fits        90   2016-06-03           B      1\n",
    "## 28                   The Fits        90   2016-06-03           C      4\n",
    "## 29                   The Fits        90   2016-06-03           D      4\n",
    "## 30                   The Fits        90   2016-06-03           E      5"
   ]
  },
  {
   "cell_type": "code",
   "execution_count": null,
   "id": "a5ae4ef5",
   "metadata": {},
   "outputs": [],
   "source": [
    "dbSendQuery(connection, 'DROP TABLE tbl_Ratings;')"
   ]
  },
  {
   "cell_type": "markdown",
   "id": "23e731d4",
   "metadata": {},
   "source": [
    "##<MySQLResult:99050168,1,18>"
   ]
  },
  {
   "cell_type": "code",
   "execution_count": null,
   "id": "5ffac714",
   "metadata": {},
   "outputs": [],
   "source": [
    "dbSendQuery(connection, 'DROP TABLE tbl_Friends;')"
   ]
  },
  {
   "cell_type": "markdown",
   "id": "e1ad6e30",
   "metadata": {},
   "source": [
    "##<MySQLResult:8,1,19>"
   ]
  },
  {
   "cell_type": "code",
   "execution_count": null,
   "id": "74ec08c4",
   "metadata": {},
   "outputs": [],
   "source": [
    "dbSendQuery(connection, 'DROP TABLE tbl_Movies;')"
   ]
  },
  {
   "cell_type": "markdown",
   "id": "723a1173",
   "metadata": {},
   "source": [
    "##<MySQLResult:21451392,1,20>"
   ]
  },
  {
   "cell_type": "code",
   "execution_count": null,
   "id": "41d3a71a",
   "metadata": {},
   "outputs": [],
   "source": [
    "dbSendQuery(connection, 'DROP SCHEMA Movies;')"
   ]
  },
  {
   "cell_type": "markdown",
   "id": "a787ae8c",
   "metadata": {},
   "source": [
    "##<MySQLResult:1364425037,1,21>"
   ]
  },
  {
   "cell_type": "code",
   "execution_count": null,
   "id": "444a8742",
   "metadata": {},
   "outputs": [],
   "source": [
    "dbSendQuery(connection, \"REVOKE ALL ON *.* FROM 'RMySQL' ;\")"
   ]
  },
  {
   "cell_type": "markdown",
   "id": "42d43c9f",
   "metadata": {},
   "source": [
    "##<MySQLResult:21439648,2,0>"
   ]
  },
  {
   "cell_type": "code",
   "execution_count": null,
   "id": "5dd4d476",
   "metadata": {},
   "outputs": [],
   "source": [
    "dbSendQuery(connection, \"DROP USER 'RMySQL' ;\")"
   ]
  },
  {
   "cell_type": "markdown",
   "id": "7f4ca5c6",
   "metadata": {},
   "source": [
    "##<MySQLResult:1,2,1>"
   ]
  },
  {
   "cell_type": "code",
   "execution_count": null,
   "id": "f080d213",
   "metadata": {},
   "outputs": [],
   "source": [
    "dbDisconnect(connection)"
   ]
  },
  {
   "cell_type": "markdown",
   "id": "f36d386b",
   "metadata": {},
   "source": [
    "##Warning: Closing open result sets"
   ]
  },
  {
   "cell_type": "markdown",
   "id": "4cf6fab8",
   "metadata": {},
   "source": [
    "##[1] TRUE"
   ]
  }
 ],
 "metadata": {
  "kernelspec": {
   "display_name": "Python 3 (ipykernel)",
   "language": "python",
   "name": "python3"
  },
  "language_info": {
   "codemirror_mode": {
    "name": "ipython",
    "version": 3
   },
   "file_extension": ".py",
   "mimetype": "text/x-python",
   "name": "python",
   "nbconvert_exporter": "python",
   "pygments_lexer": "ipython3",
   "version": "3.9.7"
  }
 },
 "nbformat": 4,
 "nbformat_minor": 5
}
